{
 "cells": [
  {
   "cell_type": "code",
   "execution_count": null,
   "id": "04837328-1b1a-412f-ad45-5813ec0b6fc8",
   "metadata": {},
   "outputs": [
    {
     "name": "stdout",
     "output_type": "stream",
     "text": [
      "welcome para jithendra teja have a seat\n"
     ]
    }
   ],
   "source": [
    "print(\"welcome para jithendra teja\",end=' ')\n",
    "print(\"have a seat\")"
   ]
  },
  {
   "cell_type": "code",
   "execution_count": null,
   "id": "11aa7aa0-f12c-4849-b9c3-eecf130068c0",
   "metadata": {},
   "outputs": [
    {
     "name": "stdout",
     "output_type": "stream",
     "text": [
      "welcome para jithendra teja \t have a seat\n"
     ]
    }
   ],
   "source": [
    "print(\"welcome para jithendra teja\",end=' \\t ')\n",
    "print(\"have a seat\")"
   ]
  },
  {
   "cell_type": "code",
   "execution_count": null,
   "id": "d19ce73f-cead-4968-b7f0-0127227e2c22",
   "metadata": {},
   "outputs": [
    {
     "name": "stdout",
     "output_type": "stream",
     "text": [
      "welcome$$para$$jithendrateja\n",
      "have a seat\n"
     ]
    }
   ],
   "source": [
    "print(\"welcome\",\"para\",\"jithendrateja\",sep='$$')\n",
    "print(\"have a seat\")"
   ]
  },
  {
   "cell_type": "code",
   "execution_count": null,
   "id": "ca7759b0-f9fb-4829-b7cb-f1d3b7b5b9ef",
   "metadata": {},
   "outputs": [
    {
     "name": "stdout",
     "output_type": "stream",
     "text": [
      "Enter the person name: teja\n",
      "Enter the person age: 76\n"
     ]
    },
    {
     "name": "stdout",
     "output_type": "stream",
     "text": [
      "teja, you are eligible to vote, give access for voting\n"
     ]
    }
   ],
   "source": [
    "def vote_eligible():\n",
    "    name=input(\"Enter the person name:\")\n",
    "    age=int(input(\"Enter the person age:\"))\n",
    "    if age>=18:\n",
    "         return f\"{name}, you are eligible to vote, give access for voting\"\n",
    "    else:\n",
    "         return f\"{name}, you are not eligible to vote, doesn't give access for voting\"\n",
    "print(vote_eligible())\n",
    "    \n",
    "    "
   ]
  },
  {
   "cell_type": "code",
   "execution_count": null,
   "id": "7a1012e1-92db-4250-9f02-c6beee7927ff",
   "metadata": {},
   "outputs": [
    {
     "name": "stdout",
     "output_type": "stream",
     "text": [
      "Enter the person name:  teja\n",
      "Enter the person age:  87\n"
     ]
    },
    {
     "name": "stdout",
     "output_type": "stream",
     "text": [
      "{name}, you are eligible to vote, access granted for voting.\n"
     ]
    }
   ],
   "source": [
    "def vote_eligible(name,age):\n",
    "\n",
    "    if age >= 18:\n",
    "        return f\"{name}, you are eligible to vote, access granted for voting.\"\n",
    "    else:\n",
    "        return f\"{name}, you are not eligible to vote, access denied for voting.\"\n",
    "name = input(\"Enter the person name: \")\n",
    "age = int(input(\"Enter the person age: \"))\n",
    "# Call the function\n",
    "print(vote_eligible(name,age))\n"
   ]
  },
  {
   "cell_type": "code",
   "execution_count": null,
   "id": "4797c3bb-e78a-42f3-9970-9d61b7ce50c3",
   "metadata": {},
   "outputs": [
    {
     "name": "stdout",
     "output_type": "stream",
     "text": [
      "Enter a number: 9\n"
     ]
    },
    {
     "name": "stdout",
     "output_type": "stream",
     "text": [
      "9*1=9\n",
      "9*2=18\n",
      "9*3=27\n",
      "9*4=36\n",
      "9*5=45\n",
      "9*6=54\n",
      "9*7=63\n",
      "9*8=72\n",
      "9*9=81\n",
      "9*10=90\n"
     ]
    }
   ],
   "source": [
    "num=int(input(\"Enter a number:\"))\n",
    "for i in range(1,11):\n",
    "    res=num*i\n",
    "    print(f\"{num}*{i}={res}\")"
   ]
  },
  {
   "cell_type": "code",
   "execution_count": null,
   "id": "f06cefe9-6fed-4150-afea-9d4a30fd780d",
   "metadata": {},
   "outputs": [
    {
     "name": "stdout",
     "output_type": "stream",
     "text": [
      "Enter a number: 6\n"
     ]
    },
    {
     "name": "stdout",
     "output_type": "stream",
     "text": [
      "12\n"
     ]
    }
   ],
   "source": [
    "num1=int(input(\"Enter a number:\"))\n",
    "\n",
    "print(num1*2)\n",
    "    "
   ]
  }
 ],
 "metadata": {
  "kernelspec": {
   "display_name": "Python [conda env:base] *",
   "language": "python",
   "name": "conda-base-py"
  },
  "language_info": {
   "codemirror_mode": {
    "name": "ipython",
    "version": 3
   },
   "file_extension": ".py",
   "mimetype": "text/x-python",
   "name": "python",
   "nbconvert_exporter": "python",
   "pygments_lexer": "ipython3",
   "version": "3.12.7"
  }
 },
 "nbformat": 4,
 "nbformat_minor": 5
}
